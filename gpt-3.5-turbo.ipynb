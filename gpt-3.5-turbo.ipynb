{
  "nbformat": 4,
  "nbformat_minor": 0,
  "metadata": {
    "colab": {
      "provenance": [],
      "authorship_tag": "ABX9TyMHL4YGNav8BK35gxdEosb7",
      "include_colab_link": true
    },
    "kernelspec": {
      "name": "python3",
      "display_name": "Python 3"
    },
    "language_info": {
      "name": "python"
    }
  },
  "cells": [
    {
      "cell_type": "markdown",
      "metadata": {
        "id": "view-in-github",
        "colab_type": "text"
      },
      "source": [
        "<a href=\"https://colab.research.google.com/github/mflechl/colab-genai-simple/blob/main/gpt-3.5-turbo.ipynb\" target=\"_parent\"><img src=\"https://colab.research.google.com/assets/colab-badge.svg\" alt=\"Open In Colab\"/></a>"
      ]
    },
    {
      "cell_type": "code",
      "execution_count": 1,
      "metadata": {
        "id": "1j_KDlwF2LeG"
      },
      "outputs": [],
      "source": [
        "!pip -q install openai\n",
        "import openai"
      ]
    },
    {
      "cell_type": "code",
      "source": [
        "openai.api_key = '##########################################'"
      ],
      "metadata": {
        "id": "QcB0LlEA2PAh"
      },
      "execution_count": 2,
      "outputs": []
    },
    {
      "cell_type": "code",
      "source": [
        "messages = [ { \"role\": \"system\", \"content\": \"You are an intelligent assistant.\" } ]\n",
        "model = \"gpt-3.5-turbo\"\n",
        "# model = \"text-davinci-003\""
      ],
      "metadata": {
        "id": "J0lMAUqN3i6p"
      },
      "execution_count": 3,
      "outputs": []
    },
    {
      "cell_type": "code",
      "source": [
        "# you need to have a paid plan or free quota left for this to work...\n",
        "while True:\n",
        "  query = input(\"User : \")\n",
        "  if messages:\n",
        "    messages.append(\n",
        "        { \"role\": \"user\", \"content\": query }\n",
        "    )\n",
        "    chat = openai.ChatCompletion.create(\n",
        "        model=model, messages=messages\n",
        "    )\n",
        "  reply = chat.choices[0].message.content\n",
        "  print(f'ChatGPT: {reply}')\n",
        "  messages.append( { \"role\": \"assistant\", \"content\": reply } )"
      ],
      "metadata": {
        "id": "hP87sIyW36WG"
      },
      "execution_count": null,
      "outputs": []
    },
    {
      "cell_type": "code",
      "source": [],
      "metadata": {
        "id": "8N1j89fq4f5l"
      },
      "execution_count": null,
      "outputs": []
    }
  ]
}